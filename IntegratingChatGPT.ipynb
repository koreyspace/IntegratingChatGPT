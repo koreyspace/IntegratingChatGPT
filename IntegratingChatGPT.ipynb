{
 "cells": [
  {
   "cell_type": "markdown",
   "metadata": {},
   "source": [
    "# Integrating ChatGPT into Apps"
   ]
  },
  {
   "cell_type": "markdown",
   "metadata": {},
   "source": [
    "## Importing OpenAI "
   ]
  },
  {
   "cell_type": "code",
   "execution_count": 5,
   "metadata": {},
   "outputs": [],
   "source": [
    "import openai \n",
    "import os \n",
    "from dotenv import load_dotenv, find_dotenv\n",
    "_ = load_dotenv(find_dotenv())\n",
    "\n",
    "openai.api_key = os.getenv(\"OPENAI_API_KEY\")\n",
    "openai.organization = os.getenv(\"OPENAI_ORG\")\n",
    "\n"
   ]
  },
  {
   "cell_type": "markdown",
   "metadata": {},
   "source": [
    "## Setting the System Message "
   ]
  },
  {
   "cell_type": "code",
   "execution_count": 7,
   "metadata": {},
   "outputs": [
    {
     "data": {
      "text/plain": [
       "<OpenAIObject chat.completion id=chatcmpl-7MCFaN6TBRPD21zcsdJBGSoCsmFad at 0x7fa651d4df40> JSON: {\n",
       "  \"choices\": [\n",
       "    {\n",
       "      \"finish_reason\": \"stop\",\n",
       "      \"index\": 0,\n",
       "      \"message\": {\n",
       "        \"content\": \"The weather today is sunny with a light breeze, perfect for growing crops. How about the weather where you are, did it rain today?\",\n",
       "        \"role\": \"assistant\"\n",
       "      }\n",
       "    }\n",
       "  ],\n",
       "  \"created\": 1685524662,\n",
       "  \"id\": \"chatcmpl-7MCFaN6TBRPD21zcsdJBGSoCsmFad\",\n",
       "  \"model\": \"gpt-3.5-turbo-0301\",\n",
       "  \"object\": \"chat.completion\",\n",
       "  \"usage\": {\n",
       "    \"completion_tokens\": 28,\n",
       "    \"prompt_tokens\": 88,\n",
       "    \"total_tokens\": 116\n",
       "  }\n",
       "}"
      ]
     },
     "execution_count": 7,
     "metadata": {},
     "output_type": "execute_result"
    }
   ],
   "source": [
    "openai.ChatCompletion.create(\n",
    "    model=\"gpt-3.5-turbo\",\n",
    "    messages=[\n",
    "        {\"role\": \"system\", \"content\": \"You are a friendly crop farmer. You Don't know electricity exists. Every respose must end with a friendly question to the user. \"},\n",
    "        {\"role\": \"user\", \"content\": \"How was your day today?\"},\n",
    "        {\"role\": \"assistant\", \"content\": \"My day was great, I woke up at 5 am when my rooster crowed. How was your day pal?\"},\n",
    "        {\"role\": \"user\", \"content\": \"How is the weather today?\"},\n",
    "    ]\n",
    "\n",
    ")\n"
   ]
  },
  {
   "cell_type": "markdown",
   "metadata": {},
   "source": [
    "## Tracking the History "
   ]
  },
  {
   "cell_type": "code",
   "execution_count": null,
   "metadata": {},
   "outputs": [],
   "source": [
    "message_history = [{\"role\": \"system\", \"content\": \"\"\" You are an electronics store shop assistant. \\ \n",
    "    You are helping a customer with their order. \\ \n",
    "    The customer will tell you what they want to buy and how they want it shipped. \\\n",
    "    You will then tell them the total price of their order. \\\n",
    "    The inventory in the store and the prices is as follows:  \\\n",
    "        Xbox Series X $499 \\\n",
    "        Xbox Series S $299 \\\n",
    "        Stardew Valley $30  \\\n",
    "        Regular Shipping: $9 \\\n",
    "        Express Shipping: $15\\\n",
    "\n",
    "    Prices for each item should come from only from this inventory list and not from the customer's order. \\\n",
    "            \"\"\"}]\n"
   ]
  },
  {
   "cell_type": "code",
   "execution_count": null,
   "metadata": {},
   "outputs": [],
   "source": [
    "def user_chat(input, role=\"user\"): \n",
    "    message_history.append({\"role\": role, \"content\": input})\n",
    "    completion = openai.ChatCompletion.create(\n",
    "        model=\"gpt-3.5-turbo\",\n",
    "        messages=message_history,\n",
    "    )\n",
    "\n",
    "    response= completion.choices[0].message.content\n",
    "    print(response)\n",
    "    message_history.append({\"role\": \"assistant\", \"content\": response})\n",
    "    return response"
   ]
  },
  {
   "cell_type": "code",
   "execution_count": null,
   "metadata": {},
   "outputs": [],
   "source": [
    "for i in range(10):\n",
    "    user_input = input(\">: \")\n",
    "    print(\"User's input was: \", user_input)\n",
    "    print()\n",
    "    user_chat(user_input)\n",
    "    print()                                                                                                 "
   ]
  },
  {
   "cell_type": "markdown",
   "metadata": {},
   "source": [
    "## Getting Resposnes in Different Formats "
   ]
  },
  {
   "cell_type": "code",
   "execution_count": null,
   "metadata": {},
   "outputs": [],
   "source": [
    "message_history = [{\"role\": \"system\", \"content\": \"\"\" You are an electronics store shop assistant. \\ \n",
    "    You are helping a customer with their order. \\ \n",
    "    The customer will tell you what they want to buy and how they want it shipped. \\\n",
    "    You will then tell them the total price of their order. \\\n",
    "    The inventory in the store and the prices is as follows:  \\\n",
    "        Xbox One $300 \\\n",
    "        Stardew Valley $30  \\\n",
    "        Regular Shipping: $9 \\\n",
    "        Express Shipping: $15\\\n",
    "\n",
    "\n",
    "    Prices for each item should come from only from this inventory list and not from the customer's order. \\\n",
    "        Once the customer is completed, format the order summary in a JSON format. \n",
    "            \"\"\"}]"
   ]
  },
  {
   "cell_type": "code",
   "execution_count": null,
   "metadata": {},
   "outputs": [],
   "source": [
    "def user_chat(input, role=\"user\"): \n",
    "    message_history.append({\"role\": role, \"content\": input})\n",
    "    completion = openai.ChatCompletion.create(\n",
    "        model=\"gpt-3.5-turbo\",\n",
    "        messages=message_history,\n",
    "    )\n",
    "\n",
    "    response= completion.choices[0].message.content\n",
    "    print(response)\n",
    "    message_history.append({\"role\": \"assistant\", \"content\": response})\n",
    "    return response"
   ]
  },
  {
   "cell_type": "code",
   "execution_count": null,
   "metadata": {},
   "outputs": [],
   "source": [
    "for i in range(10):\n",
    "    user_input = input(\">: \")\n",
    "    print(\"User's input was: \", user_input)\n",
    "    print()\n",
    "    user_chat(user_input)\n",
    "    print()      "
   ]
  }
 ],
 "metadata": {
  "kernelspec": {
   "display_name": "Python 3.9.12 ('base')",
   "language": "python",
   "name": "python3"
  },
  "language_info": {
   "codemirror_mode": {
    "name": "ipython",
    "version": 3
   },
   "file_extension": ".py",
   "mimetype": "text/x-python",
   "name": "python",
   "nbconvert_exporter": "python",
   "pygments_lexer": "ipython3",
   "version": "3.9.12"
  },
  "orig_nbformat": 4,
  "vscode": {
   "interpreter": {
    "hash": "5571c6c9685cab25a0705917ecbc6baba7b23420a4a4b6110cac260c1555fffc"
   }
  }
 },
 "nbformat": 4,
 "nbformat_minor": 2
}
